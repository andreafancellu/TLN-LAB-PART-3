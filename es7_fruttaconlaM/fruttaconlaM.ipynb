{
 "cells": [
  {
   "cell_type": "markdown",
   "metadata": {},
   "source": [
    "# Esercizio 7 - Frutta con la M"
   ]
  },
  {
   "cell_type": "markdown",
   "metadata": {},
   "source": [
    "In questo esercizio il sistema estrarrà una lettera a caso e chiederà all'utente di inserire un frutto con la lettera scelta, il \n",
    "frutto deve essere inserito in lingua inglese siccome usiamo wordnet per il controllo.\n",
    "\n",
    "Abbiamo gestito l'esercizio come un gioco in cui l'utente deve battere la macchina che lo interroga."
   ]
  },
  {
   "cell_type": "markdown",
   "metadata": {},
   "source": [
    "### Approccio"
   ]
  },
  {
   "cell_type": "markdown",
   "metadata": {},
   "source": [
    "L'approccio utilizzato è il seguente:\n",
    "- si parte da una lista di frutti passata in input al sistema;\n",
    "- per ognuno di questi frutti si individuano i suoi iperonimi;\n",
    "- per ogni iperonimo si vanno a salvare tutti i suoi iponimi;\n",
    "- a questo punto viene creata una lista di possibili risposte, che comprende i frutti che iniziano con la lettera scelta.\n",
    "\n",
    "Il sistema può essere esteso per riconoscere altre categorie oltre ai frutti"
   ]
  },
  {
   "cell_type": "markdown",
   "metadata": {},
   "source": [
    "### Imports"
   ]
  },
  {
   "cell_type": "code",
   "execution_count": 1,
   "metadata": {},
   "outputs": [],
   "source": [
    "from nltk.corpus import wordnet as wn\n",
    "import string\n",
    "import random"
   ]
  },
  {
   "cell_type": "markdown",
   "metadata": {},
   "source": [
    "Questa lista contiene le parole con cui il sistema si andrà ad \"informare\" per capire quali nodi rappresentano dei frutti in WordNet"
   ]
  },
  {
   "cell_type": "code",
   "execution_count": 2,
   "metadata": {},
   "outputs": [],
   "source": [
    "CATEGORIES = [\"FRUIT\", \"cranberry\", \"apple\", \"peanut\", \"orange\"]"
   ]
  },
  {
   "cell_type": "markdown",
   "metadata": {},
   "source": [
    "### Funzioni"
   ]
  },
  {
   "cell_type": "code",
   "execution_count": 3,
   "metadata": {},
   "outputs": [],
   "source": [
    "def get_synset(word):\n",
    "    if(len(wn.synsets(word)) > 0):\n",
    "        return wn.synsets(word)[0]\n",
    "    return None\n",
    "\n",
    "def get_hypers(word):\n",
    "    syn = get_synset(word)\n",
    "    hypers = []\n",
    "    if(syn is not None):\n",
    "        hypers = syn.hypernyms()\n",
    "    return hypers\n",
    "\n",
    "def get_all_hypers(word):\n",
    "    syn = get_synset(word)\n",
    "    hypo_list = []\n",
    "    while(syn.hypernyms() != []):\n",
    "        hypo_list.append(syn.hypernyms()[0])\n",
    "        syn = syn.hypernyms()[0]\n",
    "        \n",
    "def get_words_cat_hypers(category):\n",
    "    hypers = []\n",
    "    for word in category[1:]:\n",
    "        hypers.append(get_hypers(word))\n",
    "        \n",
    "    hypers = [x for xs in hypers for x in xs]\n",
    "    return hypers\n",
    "\n",
    "def get_all_hypos(syns):\n",
    "    hypos = []\n",
    "    for syn in syns:\n",
    "        hypos.append(get_hypos(syn))\n",
    "    hypos = [x for xs in hypos for x in xs]\n",
    "    return hypos\n",
    "\n",
    "def get_hypos(syn):\n",
    "    hypo_list = []\n",
    "    if(syn is not None):\n",
    "        hypo_list = list(set([get_synset(w) for s in syn.closure(lambda s:s.hyponyms()) for w in s.lemma_names()]))\n",
    "    return hypo_list\n",
    "\n",
    "def clean_response(syns):\n",
    "    for syn in syns:\n",
    "        fruit = wn.synset('fruit.n.01')\n",
    "        lch = fruit.lowest_common_hypernyms(syn)\n",
    "        if(lch[0] != fruit):\n",
    "            syns.remove(syn)\n",
    "    return syns\n",
    "\n",
    "def pick_words(syns, letter):\n",
    "    answer = []\n",
    "    for syn in syns:\n",
    "        lemma = syn.lemma_names()[0]\n",
    "        if lemma[0] == letter:\n",
    "            answer.append(lemma)\n",
    "\n",
    "    return answer\n"
   ]
  },
  {
   "cell_type": "markdown",
   "metadata": {},
   "source": [
    "### Esecuzione"
   ]
  },
  {
   "cell_type": "code",
   "execution_count": 4,
   "metadata": {},
   "outputs": [
    {
     "name": "stdout",
     "output_type": "stream",
     "text": [
      "Welcome to the Game!\n",
      "Tell me a fruit starting with letter ... Y\n",
      "\n",
      "Wrong Answer! \n",
      "\n",
      "You could say:  yucca\n"
     ]
    }
   ],
   "source": [
    "def game():\n",
    "    print(\"Welcome to the Game!\")\n",
    "\n",
    "    letter = random.choice(string.ascii_letters).lower()\n",
    "    \n",
    "    print(\"Tell me a fruit starting with letter ...\", letter.capitalize())\n",
    "\n",
    "    user_response = input().lower()\n",
    "    \n",
    "    hyper_list = get_words_cat_hypers(CATEGORIES)\n",
    "    \n",
    "    right_syn = get_all_hypos(hyper_list)\n",
    "    \n",
    "    right_syn = clean_response(right_syn) # controllo aggiuntivo \n",
    "    \n",
    "    possible_answers = pick_words(right_syn, letter)\n",
    "\n",
    "    if(user_response in possible_answers):\n",
    "        print(\"Good Job! The answer\", user_response, \"is correct!\")\n",
    "    elif len(possible_answers) != 0:\n",
    "        print(\"\\nWrong Answer!\", \"\\n\\nYou could say: \", random.choice(possible_answers))\n",
    "    else:\n",
    "        print(f\"\\nYou are very very wise!, There are no fruits starting with letter {letter}\")\n",
    "game()"
   ]
  },
  {
   "cell_type": "markdown",
   "metadata": {},
   "source": [
    "### Limiti del sistema"
   ]
  },
  {
   "cell_type": "markdown",
   "metadata": {},
   "source": [
    "- Il sistema, così come è realizzato, basa la sua ricerca sugli esempi passati in input, che quindi sono i principali responsabili delle sue prestazioni.\n",
    "- WordNet è una risorsa gerarchica che non fa uso del senso comune, concetto che sarebbe utile per trattare un gioco di questa natura.\n",
    "- Inoltre, WordNet è molto specifico (ci sono frutti sconosciuti), e i nodi non sono organizzati per essere reperiti facilmente per tale scopo."
   ]
  }
 ],
 "metadata": {
  "kernelspec": {
   "display_name": "Python 3.9.12 ('base')",
   "language": "python",
   "name": "python3"
  },
  "language_info": {
   "codemirror_mode": {
    "name": "ipython",
    "version": 3
   },
   "file_extension": ".py",
   "mimetype": "text/x-python",
   "name": "python",
   "nbconvert_exporter": "python",
   "pygments_lexer": "ipython3",
   "version": "3.9.12"
  },
  "orig_nbformat": 4,
  "vscode": {
   "interpreter": {
    "hash": "26ed4aba4c119105743730e2b96c2b24e70aa5572a8c25f5746c820738ee0ea5"
   }
  }
 },
 "nbformat": 4,
 "nbformat_minor": 2
}
