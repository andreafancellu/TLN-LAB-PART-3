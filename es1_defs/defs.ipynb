{
 "cells": [
  {
   "cell_type": "markdown",
   "metadata": {},
   "source": [
    "# Esercizio 1 - Defs"
   ]
  },
  {
   "cell_type": "markdown",
   "metadata": {},
   "source": [
    "I termini utilizzati per l'esperimento sono:\n",
    "\n",
    "- Emotion --> generale e astratto\n",
    "- Person --> generale e concreto\n",
    "- Revenge --> specifico e astratto\n",
    "- Brick --> specifico e concreto"
   ]
  },
  {
   "cell_type": "code",
   "execution_count": 1,
   "metadata": {},
   "outputs": [],
   "source": [
    "from collections import Counter\n",
    "from nltk.stem import WordNetLemmatizer"
   ]
  },
  {
   "cell_type": "markdown",
   "metadata": {},
   "source": [
    "Lista di stopwords da rimuovere dalle definizioni, oltre a quelle presenti in ***nltk.corpus.stopwords.words('english')***"
   ]
  },
  {
   "cell_type": "code",
   "execution_count": 2,
   "metadata": {},
   "outputs": [],
   "source": [
    "STOP_WORDS = ['on','of','a', 'most', 'be', 'did', \"mightn't\", 'or', 'the', 'does', \"it's\", 'ourselves', 'if', 'few', 'above', 've', 'ours', \n",
    "'your', 'some', 'own', 't', 'yours', 'couldn', \"you'll\", 'both', \"wouldn't\", 'once', 'off', 'doesn', 'through', 'their', \n",
    "'themselves', 'until', 'isn', 'do', \"hadn't\", 'have', 'from', 'needn', 'hers', 'has', 'between', 'not', 'ain', 'they', 'after', 'out', \n",
    "'then', 'while', \"shouldn't\", 'mightn', 'against', \"should've\", \"couldn't\", 'she', 'but', 'as', 'below', 'over', 'each', 'hadn', 'when', \n",
    "'of', 'there', 'hasn', 'before', 'aren', 'only', 'them', 'is', 'will', 'yourself', 'so', 're', 'very', \"you'd\", 'all', 'nor', 'o', 'haven', \n",
    "'had', 'that', 'doing', 'just', 'no', 'and', \"needn't\", 'was', \"didn't\", 'a', 'weren', 'why', 'an', \"mustn't\", \"isn't\", 'wouldn', 'whom', \n",
    "'too', \"that'll\", 'should', 'himself', 'about', 'which', 'under', \"don't\", 'y', \"hasn't\", 'been', 'his', 'here', 'further', \"doesn't\", \n",
    "'same', 'how', 'we', 'than', 'ma', 'who', 'herself', 'theirs', 'were', 'any', 'wasn', \"haven't\", 'having', 'it', 'yourselves', 'more', \n",
    "'won', 'those', 'by', 'now', 'd', 'where', 'me', 'him', 'again', 's', 'are', 'shouldn', \"weren't\", \"wasn't\", 'for', 'what', \"she's\", 'll', \n",
    "\"won't\", 'this', 'because', 'm', 'you', 'shan', 'up', 'can', 'her', 'itself', 'i', \"you're\", 'in', 'myself', 'its', 'mustn', 'don', 'these', \n",
    "'such', 'down', 'our', 'into', \"shan't\", 'didn', 'am', 'he', 'to', 'my', \"aren't\", 'other', \"you've\", 'at', 'during', 'with', 'someone']\n"
   ]
  },
  {
   "cell_type": "markdown",
   "metadata": {},
   "source": [
    "### Funzioni di pre-processing"
   ]
  },
  {
   "cell_type": "markdown",
   "metadata": {},
   "source": [
    "Funzioni per rimuovere le stop words dal testo e lemmatizzare il testo passato in input"
   ]
  },
  {
   "cell_type": "code",
   "execution_count": 3,
   "metadata": {},
   "outputs": [],
   "source": [
    "def remove_stop_words(text):\n",
    "    result = []\n",
    "    for word in text:\n",
    "        if word.lower() not in STOP_WORDS:\n",
    "            result.append(word.lower())\n",
    "    return result\n",
    "\n",
    "def lemmatize_words(text):\n",
    "    result = []\n",
    "    lemmatizer = WordNetLemmatizer()\n",
    "    for word in text:\n",
    "        result.append(lemmatizer.lemmatize(word))\n",
    "    return result"
   ]
  },
  {
   "cell_type": "markdown",
   "metadata": {},
   "source": [
    "### Esecuzione"
   ]
  },
  {
   "cell_type": "code",
   "execution_count": 2,
   "metadata": {},
   "outputs": [],
   "source": [
    "list = open(\"../data/def.csv\").readlines() \n",
    "\n",
    "data = []\n",
    "\n",
    "for line in list:\n",
    "    data.append(line.strip(\"\\n\").split(\",\")) # salva le definizioni in una lista di liste, splittando sulle virgole"
   ]
  },
  {
   "cell_type": "markdown",
   "metadata": {},
   "source": [
    "Di seguito viene ripulito il tetsto dalle stopwords e vengono sostiuiti i termini con i rispettivi lemmi.\n",
    "Successivamente vengono salvati i termini in una struttura ***Counter***, per contare le frequenze.\n",
    "\n",
    "Il calcolo della similirità tra le definizoni viene effettuato prendendendo le ***n*** parole più frequenti e calcolando la media delle loro frequenze, per poi dividere il risultato per il numero di parole estratte."
   ]
  },
  {
   "cell_type": "code",
   "execution_count": 18,
   "metadata": {},
   "outputs": [
    {
     "name": "stdout",
     "output_type": "stream",
     "text": [
      "[('feeling', 11), ('human', 8), ('feel', 8), ('being', 7), ('something', 6)]\n",
      "Punteggio finale per Emotion: 0.28\n",
      "\n",
      "[('human', 26), ('being', 21), ('homo', 5), ('person', 4), ('sapiens', 4)]\n",
      "Punteggio finale per Person: 0.35\n",
      "\n",
      "[('feeling', 7), ('anger', 7), ('action', 6), ('emotion', 6), ('act', 6)]\n",
      "Punteggio finale per Revenge: 0.21\n",
      "\n",
      "[('used', 22), ('object', 15), ('construction', 15), ('material', 14), ('build', 12)]\n",
      "Punteggio finale per Brick: 0.53\n",
      "\n"
     ]
    }
   ],
   "source": [
    "for line in data:\n",
    "    main_concept = line[0] \n",
    "    counter_concept = Counter()\n",
    "    \n",
    "    # Fase di pre-processing e calcolo frequenze\n",
    "    for definition in line[1:]:\n",
    "        statement = remove_stop_words(definition.split())\n",
    "        statement = lemmatize_words(statement)\n",
    "        counter_concept.update(statement)\n",
    "\n",
    "    # Save the n most commond words in the definition\n",
    "    freq_words = counter_concept.most_common(5)\n",
    "    print(freq_words)\n",
    "    \n",
    "    for word in freq_words:\n",
    "        final_result += word[1]\n",
    "    \n",
    "    final_result = final_result/(len(line)-1)\n",
    "\n",
    "    print(f\"Punteggio finale per {main_concept}: {round(final_result/len(freq_words), 2)}\\n\")\n",
    "\n"
   ]
  },
  {
   "cell_type": "markdown",
   "metadata": {},
   "source": [
    "## Analisi risultati"
   ]
  },
  {
   "cell_type": "markdown",
   "metadata": {},
   "source": [
    "I risultati mostrano come ***\"brick\"***, la parola specifica e concreta, sia quella con le definizoni più simili tra di loro. È seguita, rispettivamente, da ***\"person\"***, ***\"emotion\"*** e ***\"revenge\"***.\n",
    "\n",
    "L'ipotesi che le parole concrete e specificche siano quelle più semplici da definire è quindi confermata, mentre le parole astratte sono più difficili da definire.\n",
    "\n",
    "Alcuni limiti implementativi:\n",
    "- **Criterio di similarità utilizzato**: Il criterio utilizzato è una funzione di similarità che si basa\n",
    "  semplicemente sul conteggio delle parole comuni nelle definizioni. Funzioni di similarita più accurate, come la cosine similarity, \n",
    "  avrebbero prodotto risultati diversi.\n",
    "\n",
    "- **Dataset utilizzato**: Il dataset utilizzato, che è troppo piccolo per permettere di trarre dei risultati \n",
    "  accurati."
   ]
  }
 ],
 "metadata": {
  "kernelspec": {
   "display_name": "Python 3.10.4 64-bit",
   "language": "python",
   "name": "python3"
  },
  "language_info": {
   "codemirror_mode": {
    "name": "ipython",
    "version": 3
   },
   "file_extension": ".py",
   "mimetype": "text/x-python",
   "name": "python",
   "nbconvert_exporter": "python",
   "pygments_lexer": "ipython3",
   "version": "3.10.4"
  },
  "orig_nbformat": 4,
  "vscode": {
   "interpreter": {
    "hash": "6847c98a8f86b01c6a19c518cd2f366693b80566b266804d5ca763cbb223f52b"
   }
  }
 },
 "nbformat": 4,
 "nbformat_minor": 2
}
