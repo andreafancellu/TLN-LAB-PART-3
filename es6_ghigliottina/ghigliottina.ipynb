{
 "cells": [
  {
   "cell_type": "markdown",
   "metadata": {},
   "source": [
    "# Esercizio 6 - La Ghigliottina"
   ]
  },
  {
   "cell_type": "markdown",
   "metadata": {},
   "source": [
    "Questo esercizio è ispirato al gioco televisivo \"La Ghigliottina\", in cui il partecipante deve trovare la sesta parola date 5 parole.\n",
    "Il gioco si basa spesso su citazioni, modi di dire, titoli di canzoni e frasi di uso comune."
   ]
  },
  {
   "cell_type": "markdown",
   "metadata": {},
   "source": [
    "### Funzionamento e Dataset"
   ]
  },
  {
   "cell_type": "markdown",
   "metadata": {},
   "source": [
    "**ALGORITMO:** \n",
    "\n",
    "L'algoritmo va a cercare le 5 parole in input all'interno del nostro dataset e salva le frasi che contengono almeno una delle parole. \n",
    "\n",
    "Dopo aver fatto pre-processing sulle frasi (rimozione stopwords), calcoliamo la frequenza delle parole all'interno delle frasi. \n",
    "Restituiamo la parola che occorre più volte, che corrisponde alla sesta parola.\n",
    "\n",
    "**DATASET:** \n",
    "\n",
    "Il dataset è stato creato mettendo insieme una lista di frasi tra cui:\n",
    "\n",
    "- Titoli di film\n",
    "- Modi di dire\n",
    "- Titoli di canzoni\n",
    "- Frasi di uso comune"
   ]
  },
  {
   "cell_type": "markdown",
   "metadata": {},
   "source": [
    "### Imports"
   ]
  },
  {
   "cell_type": "code",
   "execution_count": 46,
   "metadata": {},
   "outputs": [],
   "source": [
    "from nltk.corpus import stopwords\n",
    "from time import sleep\n",
    "import random\n",
    "from collections import Counter\n",
    "import time"
   ]
  },
  {
   "cell_type": "code",
   "execution_count": 47,
   "metadata": {},
   "outputs": [],
   "source": [
    "WORDS_1 = ['ammazzare', 'ingannare', 'pioggia', 'mele', 'spazio']\n",
    "WORDS_2 = ['bicchiere', 'mulino', 'gocce', 'gola', 'buco']\n",
    "WORDS_3 = ['campa', 'battaglia', 'razza', 'Troia', 'vecchio']\n",
    "WORDS_4 = ['bastonato', 'sciolto', 'gatto', 'chiesa', 'salsiccia']\n",
    "WORDS_5 = ['attività', 'famiglia', 'rubato', 'fiume', 'nido']\n",
    "WORDS_6 = ['sangue', 'auto', 'vertigo', 'zucchero', 'cielo']\n",
    "WORDS_7 = ['sassolino', 'ciabatta', 'ginnastica', 'piedi', 'tacco']"
   ]
  },
  {
   "cell_type": "markdown",
   "metadata": {},
   "source": [
    "### Funzioni"
   ]
  },
  {
   "cell_type": "code",
   "execution_count": 48,
   "metadata": {},
   "outputs": [],
   "source": [
    "def remove_stop_words_ita(phrase):\n",
    "    stop_words = stopwords.words('italian')\n",
    "    phrase = phrase.split()\n",
    "    phrase = [word for word in phrase if word not in stop_words]\n",
    "    return phrase\n",
    "\n",
    "def check_dataset(path, words):\n",
    "    phrases = []    \n",
    "    with open(path, 'r') as file:\n",
    "        for line in file:\n",
    "            for word in words:\n",
    "                if word.lower() in line.lower(): \n",
    "                    line = line.lower()\n",
    "                    line = line.replace(word, '') # evitiamo che una delle cinque parole iniziali esca come sesta parola\n",
    "                    phrases.append(remove_stop_words_ita(line))\n",
    "    return phrases\n",
    "\n",
    "def get_answers(phrases):\n",
    "    c = Counter()\n",
    "    most_common = []\n",
    "    for word in phrases:\n",
    "        c.update(word)\n",
    "    \n",
    "    return c.most_common(1)[0][0].upper()\n"
   ]
  },
  {
   "cell_type": "markdown",
   "metadata": {},
   "source": [
    "### Esecuzione"
   ]
  },
  {
   "cell_type": "code",
   "execution_count": 49,
   "metadata": {},
   "outputs": [
    {
     "name": "stdout",
     "output_type": "stream",
     "text": [
      "Le parole selezionate sono: ['bastonato', 'sciolto', 'gatto', 'chiesa', 'salsiccia']\n"
     ]
    }
   ],
   "source": [
    "path = '../data/ghigliottina.txt'\n",
    "list_words = [WORDS_1, WORDS_2, WORDS_3, WORDS_4, WORDS_5, WORDS_6, WORDS_7]\n",
    "\n",
    "input_words = random.choice(list_words)\n",
    "\n",
    "print(\"Le parole selezionate sono:\", input_words)"
   ]
  },
  {
   "cell_type": "code",
   "execution_count": 50,
   "metadata": {},
   "outputs": [
    {
     "name": "stdout",
     "output_type": "stream",
     "text": [
      "The given words are: ['bastonato', 'sciolto', 'gatto', 'chiesa', 'salsiccia']\n",
      "\n",
      "Inserisci la risposta\n",
      "\n",
      "Complimenti! La parola  CANE  è la parola coretta!!\n"
     ]
    }
   ],
   "source": [
    "print(f'The given words are: {input_words}')\n",
    "\n",
    "phrases = check_dataset(path, input_words)\n",
    "answer = get_answers(phrases)\n",
    "\n",
    "print(\"\\nInserisci la risposta\\n\")\n",
    "\n",
    "user_answer = input().upper()\n",
    "\n",
    "if(user_answer == answer):\n",
    "    print(\"Complimenti! La parola \", answer, \" è la parola coretta!!\")\n",
    "else:\n",
    "    print(f\"Purtroppo la tua risposta non è corretta. \\n\\nLa sesta parola è\")\n",
    "    sleep(1)\n",
    "    print(\"\\n... (suspense) ... \\n\")\n",
    "    sleep(1)\n",
    "    print(\"---> \", answer, \" <---\")"
   ]
  }
 ],
 "metadata": {
  "kernelspec": {
   "display_name": "Python 3.10.4 64-bit",
   "language": "python",
   "name": "python3"
  },
  "language_info": {
   "codemirror_mode": {
    "name": "ipython",
    "version": 3
   },
   "file_extension": ".py",
   "mimetype": "text/x-python",
   "name": "python",
   "nbconvert_exporter": "python",
   "pygments_lexer": "ipython3",
   "version": "3.10.4"
  },
  "orig_nbformat": 4,
  "vscode": {
   "interpreter": {
    "hash": "6847c98a8f86b01c6a19c518cd2f366693b80566b266804d5ca763cbb223f52b"
   }
  }
 },
 "nbformat": 4,
 "nbformat_minor": 2
}
